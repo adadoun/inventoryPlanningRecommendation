{
  "cells": [
    {
      "cell_type": "markdown",
      "metadata": {
        "id": "view-in-github",
        "colab_type": "text"
      },
      "source": [
        "<a href=\"https://colab.research.google.com/github/adadoun/inventoryPlanningRecommendation/blob/main/ArimaSalesPrediction.ipynb\" target=\"_parent\"><img src=\"https://colab.research.google.com/assets/colab-badge.svg\" alt=\"Open In Colab\"/></a>"
      ]
    },
    {
      "cell_type": "markdown",
      "metadata": {
        "id": "yATqk4ErefUg"
      },
      "source": [
        "# Sales Data Analysis\n",
        "\n",
        "This notebook contains as statistical model : ARIMA for sales prediction"
      ]
    },
    {
      "cell_type": "code",
      "execution_count": null,
      "metadata": {
        "id": "ONJvc2EsefUh"
      },
      "outputs": [],
      "source": [
        "import pandas as pd\n",
        "import numpy as np\n",
        "from statsmodels.tsa.arima.model import ARIMA\n",
        "from sklearn.metrics import mean_absolute_error, mean_squared_error\n",
        "import warnings\n",
        "import itertools\n",
        "warnings.filterwarnings('ignore')"
      ]
    },
    {
      "cell_type": "code",
      "execution_count": null,
      "metadata": {
        "colab": {
          "base_uri": "https://localhost:8080/"
        },
        "id": "7vhtyIbVemyx",
        "outputId": "1c9a84ed-ee30-49e8-f363-f42bd6ec2201"
      },
      "outputs": [
        {
          "name": "stdout",
          "output_type": "stream",
          "text": [
            "Mounted at /content/drive\n"
          ]
        }
      ],
      "source": [
        "from google.colab import drive\n",
        "drive.mount('/content/drive')"
      ]
    },
    {
      "cell_type": "code",
      "execution_count": null,
      "metadata": {
        "id": "kMoQTmDCefUi"
      },
      "outputs": [],
      "source": [
        "# Load train/test datasets\n",
        "train_data = pd.read_csv('drive/MyDrive/Collab_DATA/PolarData/train_data.csv')\n",
        "test_data = pd.read_csv('drive/MyDrive/Collab_DATA/PolarData/test_data.csv')"
      ]
    },
    {
      "cell_type": "markdown",
      "metadata": {
        "id": "uZa2FtjPMn_u"
      },
      "source": [
        "## Utilities functions for ARIMA algorithm"
      ]
    },
    {
      "cell_type": "code",
      "execution_count": null,
      "metadata": {
        "id": "0b7GUrGSnY1P"
      },
      "outputs": [],
      "source": [
        "def optimize_arima_params(train_data: pd.Series) -> tuple:\n",
        "    \"\"\"\n",
        "    Find the optimal ARIMA parameters using AIC criterion.\n",
        "\n",
        "    Args:\n",
        "        train_data (pd.Series): Time series data for training.\n",
        "\n",
        "    Returns:\n",
        "        tuple: Best order (p, d, q) for ARIMA model.\n",
        "    \"\"\"\n",
        "    p = range(0, 3)\n",
        "    d = range(0, 2)\n",
        "    q = range(0, 3)\n",
        "    pdq_combinations = list(itertools.product(p, d, q))\n",
        "\n",
        "    best_aic = float('inf')\n",
        "    best_order = None\n",
        "\n",
        "    for order in pdq_combinations:\n",
        "        try:\n",
        "            model = ARIMA(train_data, order=order)\n",
        "            results = model.fit()\n",
        "            if results.aic < best_aic:\n",
        "                best_aic = results.aic\n",
        "                best_order = order\n",
        "        except:\n",
        "            continue\n",
        "\n",
        "    return best_order\n",
        "\n",
        "def fit_arima(train_data: pd.Series) -> tuple:\n",
        "    \"\"\"\n",
        "    Fit an ARIMA model with optimized parameters.\n",
        "\n",
        "    Args:\n",
        "        train_data (pd.Series): Time series data for training.\n",
        "\n",
        "    Returns:\n",
        "        tuple: (fitted_model, best_order) - The fitted ARIMA model and its optimal parameters.\n",
        "    \"\"\"\n",
        "    best_order = optimize_arima_params(train_data)\n",
        "    model = ARIMA(train_data, order=best_order)\n",
        "    model_fit = model.fit()\n",
        "    return model_fit, best_order\n",
        "\n",
        "def make_predictions(model: ARIMA, steps: int) -> np.ndarray:\n",
        "    \"\"\"\n",
        "    Make future predictions using the fitted ARIMA model.\n",
        "\n",
        "    Args:\n",
        "        model (ARIMA): Fitted ARIMA model.\n",
        "        steps (int): Number of steps to forecast.\n",
        "\n",
        "    Returns:\n",
        "        np.ndarray: Array of predicted values.\n",
        "    \"\"\"\n",
        "    return model.forecast(steps=steps)\n",
        "\n",
        "def evaluate_model(actual: np.ndarray, predicted: np.ndarray) -> tuple:\n",
        "    \"\"\"\n",
        "    Evaluate the model performance using various metrics.\n",
        "\n",
        "    Args:\n",
        "        actual (np.ndarray): Array of actual values.\n",
        "        predicted (np.ndarray): Array of predicted values.\n",
        "\n",
        "    Returns:\n",
        "        tuple: (MAE, RMSE, MAPE) - Mean Absolute Error, Root Mean Square Error, and Mean Absolute Percentage Error.\n",
        "    \"\"\"\n",
        "    mae = mean_absolute_error(actual, predicted)\n",
        "    rmse = np.sqrt(mean_squared_error(actual, predicted))\n",
        "    mape = np.mean(np.abs((actual - predicted) / actual)) * 100\n",
        "    return mae, rmse, mape"
      ]
    },
    {
      "cell_type": "markdown",
      "metadata": {
        "id": "WhxSVrQGLYoF"
      },
      "source": [
        "## ARIMA Algorithm"
      ]
    },
    {
      "cell_type": "code",
      "execution_count": null,
      "metadata": {
        "colab": {
          "background_save": true
        },
        "id": "f6vEUPcClTgE",
        "outputId": "cd9a6ada-024d-4ef0-a3c8-6d438d5e24a2"
      },
      "outputs": [
        {
          "name": "stdout",
          "output_type": "stream",
          "text": [
            "\n",
            "Average Metrics Across Top SKUs:\n",
            "MAE: 37081.16\n",
            "RMSE: 42904.74\n",
            "MAPE: 329089.48%\n",
            "\n",
            "Top 5 SKUs by lowest MAPE:\n",
            "                MAE        RMSE       MAPE Best ARIMA Order\n",
            "71fa7a84  82.751365  276.346263  83.964496        (2, 1, 1)\n",
            "546915c8  82.973207  276.424461  83.986085        (0, 1, 2)\n",
            "5d8c9957  82.690663  276.323707  83.994170        (2, 1, 1)\n",
            "6b438d83  82.658719  276.312157  84.010403        (0, 1, 1)\n",
            "19f54204  82.612795  276.295519  84.033671        (0, 1, 1)\n",
            "\n",
            "Bottom 5 SKUs by highest MAPE:\n",
            "                   MAE          RMSE          MAPE Best ARIMA Order\n",
            "55448f55  1.847226e+07  2.129370e+07  1.641439e+08        (2, 1, 2)\n",
            "79c5cb71  4.911478e+03  4.918467e+03  4.380066e+04        (0, 1, 0)\n",
            "0436983b  4.329653e+03  4.337350e+03  3.868800e+04        (1, 1, 0)\n",
            "0c574743  4.165820e+03  4.173732e+03  3.724807e+04        (0, 1, 0)\n",
            "57652c2a  3.204700e+03  3.213233e+03  2.878946e+04        (0, 1, 0)\n"
          ]
        }
      ],
      "source": [
        "# Dictionary to store results for each SKU\n",
        "results = {}\n",
        "\n",
        "for sku in train_data['SKU'].unique()[0:500]:\n",
        "\n",
        "    # filter by sku\n",
        "    sku_data = train_data[train_data['SKU'] == sku].set_index('DATE')['QUANTITY_SOLD']\n",
        "\n",
        "    # Fit ARIMA model with optimized parameters\n",
        "    model, best_order = fit_arima(sku_data)\n",
        "\n",
        "    # Make predictions\n",
        "    predictions = make_predictions(model, steps=len(test_data))\n",
        "\n",
        "    # Evaluate model\n",
        "    mae, rmse, mape = evaluate_model(test_data['QUANTITY_SOLD'].values, predictions)\n",
        "\n",
        "    # Store results\n",
        "    results[sku] = {\n",
        "        'MAE': mae,\n",
        "        'RMSE': rmse,\n",
        "        'MAPE': mape,\n",
        "        'Best ARIMA Order': best_order\n",
        "    }\n",
        "\n",
        "# Convert results to DataFrame\n",
        "results_df = pd.DataFrame.from_dict(results, orient='index')\n",
        "\n",
        "# Calculate overall average metrics\n",
        "average_metrics = results_df[['MAE', 'RMSE', 'MAPE']].mean()\n",
        "\n",
        "print(\"\\nAverage Metrics Across Top SKUs:\")\n",
        "print(f\"MAE: {average_metrics['MAE']:.2f}\")\n",
        "print(f\"RMSE: {average_metrics['RMSE']:.2f}\")\n",
        "print(f\"MAPE: {average_metrics['MAPE']:.2f}%\")\n",
        "\n",
        "print(\"\\nTop 5 SKUs by lowest MAPE:\")\n",
        "print(results_df.sort_values('MAPE').head())\n",
        "\n",
        "print(\"\\nBottom 5 SKUs by highest MAPE:\")\n",
        "print(results_df.sort_values('MAPE', ascending=False).head())"
      ]
    },
    {
      "cell_type": "code",
      "execution_count": null,
      "metadata": {
        "id": "Z0QfAQuc4Ku6"
      },
      "outputs": [],
      "source": []
    }
  ],
  "metadata": {
    "colab": {
      "provenance": [],
      "include_colab_link": true
    },
    "kernelspec": {
      "display_name": "Python 3",
      "language": "python",
      "name": "python3"
    },
    "language_info": {
      "codemirror_mode": {
        "name": "ipython",
        "version": 3
      },
      "file_extension": ".py",
      "mimetype": "text/x-python",
      "name": "python",
      "nbconvert_exporter": "python",
      "pygments_lexer": "ipython3",
      "version": "3.8.8"
    }
  },
  "nbformat": 4,
  "nbformat_minor": 0
}